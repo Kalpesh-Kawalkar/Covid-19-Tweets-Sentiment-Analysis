{
 "cells": [
  {
   "cell_type": "code",
   "execution_count": 1,
   "id": "119244b2",
   "metadata": {},
   "outputs": [],
   "source": [
    "import os\n",
    "import nltk\n",
    "import numpy as np\n",
    "import pandas as pd"
   ]
  },
  {
   "cell_type": "code",
   "execution_count": 2,
   "id": "9a538692",
   "metadata": {},
   "outputs": [],
   "source": [
    "os.chdir('D:\\GCOEN\\Data Science with Python\\Excel Data Files')"
   ]
  },
  {
   "cell_type": "code",
   "execution_count": 3,
   "id": "e85d2fdb",
   "metadata": {},
   "outputs": [
    {
     "data": {
      "text/html": [
       "<div>\n",
       "<style scoped>\n",
       "    .dataframe tbody tr th:only-of-type {\n",
       "        vertical-align: middle;\n",
       "    }\n",
       "\n",
       "    .dataframe tbody tr th {\n",
       "        vertical-align: top;\n",
       "    }\n",
       "\n",
       "    .dataframe thead th {\n",
       "        text-align: right;\n",
       "    }\n",
       "</style>\n",
       "<table border=\"1\" class=\"dataframe\">\n",
       "  <thead>\n",
       "    <tr style=\"text-align: right;\">\n",
       "      <th></th>\n",
       "      <th>UserName</th>\n",
       "      <th>ScreenName</th>\n",
       "      <th>Location</th>\n",
       "      <th>TweetAt</th>\n",
       "      <th>OriginalTweet</th>\n",
       "      <th>Sentiment</th>\n",
       "    </tr>\n",
       "  </thead>\n",
       "  <tbody>\n",
       "    <tr>\n",
       "      <th>0</th>\n",
       "      <td>3799</td>\n",
       "      <td>48751</td>\n",
       "      <td>London</td>\n",
       "      <td>16-03-2020</td>\n",
       "      <td>@MeNyrbie @Phil_Gahan @Chrisitv https://t.co/i...</td>\n",
       "      <td>Neutral</td>\n",
       "    </tr>\n",
       "    <tr>\n",
       "      <th>1</th>\n",
       "      <td>3800</td>\n",
       "      <td>48752</td>\n",
       "      <td>UK</td>\n",
       "      <td>16-03-2020</td>\n",
       "      <td>advice Talk to your neighbours family to excha...</td>\n",
       "      <td>Positive</td>\n",
       "    </tr>\n",
       "    <tr>\n",
       "      <th>2</th>\n",
       "      <td>3801</td>\n",
       "      <td>48753</td>\n",
       "      <td>Vagabonds</td>\n",
       "      <td>16-03-2020</td>\n",
       "      <td>Coronavirus Australia: Woolworths to give elde...</td>\n",
       "      <td>Positive</td>\n",
       "    </tr>\n",
       "    <tr>\n",
       "      <th>3</th>\n",
       "      <td>3802</td>\n",
       "      <td>48754</td>\n",
       "      <td>NaN</td>\n",
       "      <td>16-03-2020</td>\n",
       "      <td>My food stock is not the only one which is emp...</td>\n",
       "      <td>Positive</td>\n",
       "    </tr>\n",
       "    <tr>\n",
       "      <th>4</th>\n",
       "      <td>3803</td>\n",
       "      <td>48755</td>\n",
       "      <td>NaN</td>\n",
       "      <td>16-03-2020</td>\n",
       "      <td>Me, ready to go at supermarket during the #COV...</td>\n",
       "      <td>Extremely Negative</td>\n",
       "    </tr>\n",
       "  </tbody>\n",
       "</table>\n",
       "</div>"
      ],
      "text/plain": [
       "  UserName ScreenName   Location     TweetAt  \\\n",
       "0     3799      48751     London  16-03-2020   \n",
       "1     3800      48752         UK  16-03-2020   \n",
       "2     3801      48753  Vagabonds  16-03-2020   \n",
       "3     3802      48754        NaN  16-03-2020   \n",
       "4     3803      48755        NaN  16-03-2020   \n",
       "\n",
       "                                       OriginalTweet           Sentiment  \n",
       "0  @MeNyrbie @Phil_Gahan @Chrisitv https://t.co/i...             Neutral  \n",
       "1  advice Talk to your neighbours family to excha...            Positive  \n",
       "2  Coronavirus Australia: Woolworths to give elde...            Positive  \n",
       "3  My food stock is not the only one which is emp...            Positive  \n",
       "4  Me, ready to go at supermarket during the #COV...  Extremely Negative  "
      ]
     },
     "execution_count": 3,
     "metadata": {},
     "output_type": "execute_result"
    }
   ],
   "source": [
    "df = pd.read_csv('Corona_NLP.csv', encoding = 'latin1', dtype = str)\n",
    "df.head()"
   ]
  },
  {
   "cell_type": "code",
   "execution_count": 4,
   "id": "97457fce",
   "metadata": {},
   "outputs": [
    {
     "data": {
      "text/plain": [
       "(41157, 6)"
      ]
     },
     "execution_count": 4,
     "metadata": {},
     "output_type": "execute_result"
    }
   ],
   "source": [
    "df.shape"
   ]
  },
  {
   "cell_type": "code",
   "execution_count": 5,
   "id": "b86d40a2",
   "metadata": {},
   "outputs": [
    {
     "data": {
      "text/plain": [
       "UserName            0\n",
       "ScreenName          0\n",
       "Location         8590\n",
       "TweetAt             0\n",
       "OriginalTweet       0\n",
       "Sentiment           0\n",
       "dtype: int64"
      ]
     },
     "execution_count": 5,
     "metadata": {},
     "output_type": "execute_result"
    }
   ],
   "source": [
    "df.isnull().sum()"
   ]
  },
  {
   "cell_type": "code",
   "execution_count": 6,
   "id": "b3cc53ff",
   "metadata": {},
   "outputs": [
    {
     "data": {
      "text/plain": [
       "0"
      ]
     },
     "execution_count": 6,
     "metadata": {},
     "output_type": "execute_result"
    }
   ],
   "source": [
    "df.duplicated().sum()"
   ]
  },
  {
   "cell_type": "code",
   "execution_count": 7,
   "id": "120aeccc",
   "metadata": {},
   "outputs": [
    {
     "data": {
      "text/plain": [
       "0"
      ]
     },
     "execution_count": 7,
     "metadata": {},
     "output_type": "execute_result"
    }
   ],
   "source": [
    "df.drop_duplicates(inplace=True)\n",
    "df.duplicated().sum()"
   ]
  },
  {
   "cell_type": "code",
   "execution_count": 8,
   "id": "53e6f0a3",
   "metadata": {},
   "outputs": [
    {
     "data": {
      "text/plain": [
       "UserName            0\n",
       "ScreenName          0\n",
       "Location         8590\n",
       "TweetAt             0\n",
       "OriginalTweet       0\n",
       "Sentiment           0\n",
       "dtype: int64"
      ]
     },
     "execution_count": 8,
     "metadata": {},
     "output_type": "execute_result"
    }
   ],
   "source": [
    "df.isnull().sum()"
   ]
  },
  {
   "cell_type": "code",
   "execution_count": 9,
   "id": "68881258",
   "metadata": {},
   "outputs": [],
   "source": [
    "import nltk\n",
    "from nltk.corpus import stopwords \n",
    "from nltk.stem import WordNetLemmatizer\n",
    "import regex"
   ]
  },
  {
   "cell_type": "code",
   "execution_count": 10,
   "id": "860e89eb",
   "metadata": {},
   "outputs": [
    {
     "name": "stdout",
     "output_type": "stream",
     "text": [
      "['i', 'me', 'my', 'myself', 'we', 'our', 'ours', 'ourselves', 'you', \"you're\", \"you've\", \"you'll\", \"you'd\", 'your', 'yours', 'yourself', 'yourselves', 'he', 'him', 'his', 'himself', 'she', \"she's\", 'her', 'hers', 'herself', 'it', \"it's\", 'its', 'itself', 'they', 'them', 'their', 'theirs', 'themselves', 'what', 'which', 'who', 'whom', 'this', 'that', \"that'll\", 'these', 'those', 'am', 'is', 'are', 'was', 'were', 'be', 'been', 'being', 'have', 'has', 'had', 'having', 'do', 'does', 'did', 'doing', 'a', 'an', 'the', 'and', 'but', 'if', 'or', 'because', 'as', 'until', 'while', 'of', 'at', 'by', 'for', 'with', 'about', 'against', 'between', 'into', 'through', 'during', 'before', 'after', 'above', 'below', 'to', 'from', 'up', 'down', 'in', 'out', 'on', 'off', 'over', 'under', 'again', 'further', 'then', 'once', 'here', 'there', 'when', 'where', 'why', 'how', 'all', 'any', 'both', 'each', 'few', 'more', 'most', 'other', 'some', 'such', 'no', 'nor', 'not', 'only', 'own', 'same', 'so', 'than', 'too', 'very', 's', 't', 'can', 'will', 'just', 'don', \"don't\", 'should', \"should've\", 'now', 'd', 'll', 'm', 'o', 're', 've', 'y', 'ain', 'aren', \"aren't\", 'couldn', \"couldn't\", 'didn', \"didn't\", 'doesn', \"doesn't\", 'hadn', \"hadn't\", 'hasn', \"hasn't\", 'haven', \"haven't\", 'isn', \"isn't\", 'ma', 'mightn', \"mightn't\", 'mustn', \"mustn't\", 'needn', \"needn't\", 'shan', \"shan't\", 'shouldn', \"shouldn't\", 'wasn', \"wasn't\", 'weren', \"weren't\", 'won', \"won't\", 'wouldn', \"wouldn't\"]\n"
     ]
    }
   ],
   "source": [
    "# Removing Stopwords\n",
    "\n",
    "sw = stopwords.words('english')\n",
    "print(sw)\n",
    "lm = WordNetLemmatizer()"
   ]
  },
  {
   "cell_type": "code",
   "execution_count": 11,
   "id": "46986acf",
   "metadata": {},
   "outputs": [],
   "source": [
    "# Preprocessing The OriginalTweet\n",
    "\n",
    "from nltk import word_tokenize, sent_tokenize\n",
    "tweets = []\n",
    "t = []\n",
    "for i in df['OriginalTweet']:\n",
    "    t = regex.sub('[^A-Za-z0-9]',' ',i)         # Removing Punctuations\n",
    "    t = t.lower()                               # Conversion To Lowercase\n",
    "    t = word_tokenize(t)                        # Tokenizing Words\n",
    "    t = [i for i in t if i not in sw]           # Stopwords Removal\n",
    "    t = [lm.lemmatize(i) for i in t]            # Lemmatizing The Words\n",
    "    t = \" \".join(t)\n",
    "    tweets.append(t)"
   ]
  },
  {
   "cell_type": "code",
   "execution_count": 12,
   "id": "e6f9b884",
   "metadata": {},
   "outputs": [
    {
     "name": "stdout",
     "output_type": "stream",
     "text": [
      "okay people covid2019 thing need mention work grocery store part large national chain right pushed absolute limit double sometimes triple normally daily sale said 1\n"
     ]
    }
   ],
   "source": [
    "print(tweets[1000])"
   ]
  },
  {
   "cell_type": "code",
   "execution_count": 13,
   "id": "ab8add5a",
   "metadata": {},
   "outputs": [
    {
     "data": {
      "text/html": [
       "<div>\n",
       "<style scoped>\n",
       "    .dataframe tbody tr th:only-of-type {\n",
       "        vertical-align: middle;\n",
       "    }\n",
       "\n",
       "    .dataframe tbody tr th {\n",
       "        vertical-align: top;\n",
       "    }\n",
       "\n",
       "    .dataframe thead th {\n",
       "        text-align: right;\n",
       "    }\n",
       "</style>\n",
       "<table border=\"1\" class=\"dataframe\">\n",
       "  <thead>\n",
       "    <tr style=\"text-align: right;\">\n",
       "      <th></th>\n",
       "      <th>UserName</th>\n",
       "      <th>ScreenName</th>\n",
       "      <th>Location</th>\n",
       "      <th>TweetAt</th>\n",
       "      <th>OriginalTweet</th>\n",
       "      <th>Sentiment</th>\n",
       "      <th>Preprocessed_Tweets</th>\n",
       "    </tr>\n",
       "  </thead>\n",
       "  <tbody>\n",
       "    <tr>\n",
       "      <th>0</th>\n",
       "      <td>3799</td>\n",
       "      <td>48751</td>\n",
       "      <td>London</td>\n",
       "      <td>16-03-2020</td>\n",
       "      <td>@MeNyrbie @Phil_Gahan @Chrisitv https://t.co/i...</td>\n",
       "      <td>Neutral</td>\n",
       "      <td>menyrbie phil gahan chrisitv http co ifz9fan2p...</td>\n",
       "    </tr>\n",
       "    <tr>\n",
       "      <th>1</th>\n",
       "      <td>3800</td>\n",
       "      <td>48752</td>\n",
       "      <td>UK</td>\n",
       "      <td>16-03-2020</td>\n",
       "      <td>advice Talk to your neighbours family to excha...</td>\n",
       "      <td>Positive</td>\n",
       "      <td>advice talk neighbour family exchange phone nu...</td>\n",
       "    </tr>\n",
       "    <tr>\n",
       "      <th>2</th>\n",
       "      <td>3801</td>\n",
       "      <td>48753</td>\n",
       "      <td>Vagabonds</td>\n",
       "      <td>16-03-2020</td>\n",
       "      <td>Coronavirus Australia: Woolworths to give elde...</td>\n",
       "      <td>Positive</td>\n",
       "      <td>coronavirus australia woolworth give elderly d...</td>\n",
       "    </tr>\n",
       "    <tr>\n",
       "      <th>3</th>\n",
       "      <td>3802</td>\n",
       "      <td>48754</td>\n",
       "      <td>NaN</td>\n",
       "      <td>16-03-2020</td>\n",
       "      <td>My food stock is not the only one which is emp...</td>\n",
       "      <td>Positive</td>\n",
       "      <td>food stock one empty please panic enough food ...</td>\n",
       "    </tr>\n",
       "    <tr>\n",
       "      <th>4</th>\n",
       "      <td>3803</td>\n",
       "      <td>48755</td>\n",
       "      <td>NaN</td>\n",
       "      <td>16-03-2020</td>\n",
       "      <td>Me, ready to go at supermarket during the #COV...</td>\n",
       "      <td>Extremely Negative</td>\n",
       "      <td>ready go supermarket covid19 outbreak paranoid...</td>\n",
       "    </tr>\n",
       "    <tr>\n",
       "      <th>...</th>\n",
       "      <td>...</td>\n",
       "      <td>...</td>\n",
       "      <td>...</td>\n",
       "      <td>...</td>\n",
       "      <td>...</td>\n",
       "      <td>...</td>\n",
       "      <td>...</td>\n",
       "    </tr>\n",
       "    <tr>\n",
       "      <th>41152</th>\n",
       "      <td>44951</td>\n",
       "      <td>89903</td>\n",
       "      <td>Wellington City, New Zealand</td>\n",
       "      <td>14-04-2020</td>\n",
       "      <td>Airline pilots offering to stock supermarket s...</td>\n",
       "      <td>Neutral</td>\n",
       "      <td>airline pilot offering stock supermarket shelf...</td>\n",
       "    </tr>\n",
       "    <tr>\n",
       "      <th>41153</th>\n",
       "      <td>44952</td>\n",
       "      <td>89904</td>\n",
       "      <td>NaN</td>\n",
       "      <td>14-04-2020</td>\n",
       "      <td>Response to complaint not provided citing COVI...</td>\n",
       "      <td>Extremely Negative</td>\n",
       "      <td>response complaint provided citing covid 19 re...</td>\n",
       "    </tr>\n",
       "    <tr>\n",
       "      <th>41154</th>\n",
       "      <td>44953</td>\n",
       "      <td>89905</td>\n",
       "      <td>NaN</td>\n",
       "      <td>14-04-2020</td>\n",
       "      <td>You know itÂs getting tough when @KameronWild...</td>\n",
       "      <td>Positive</td>\n",
       "      <td>know getting tough kameronwilds rationing toil...</td>\n",
       "    </tr>\n",
       "    <tr>\n",
       "      <th>41155</th>\n",
       "      <td>44954</td>\n",
       "      <td>89906</td>\n",
       "      <td>NaN</td>\n",
       "      <td>14-04-2020</td>\n",
       "      <td>Is it wrong that the smell of hand sanitizer i...</td>\n",
       "      <td>Neutral</td>\n",
       "      <td>wrong smell hand sanitizer starting turn coron...</td>\n",
       "    </tr>\n",
       "    <tr>\n",
       "      <th>41156</th>\n",
       "      <td>44955</td>\n",
       "      <td>89907</td>\n",
       "      <td>i love you so much || he/him</td>\n",
       "      <td>14-04-2020</td>\n",
       "      <td>@TartiiCat Well new/used Rift S are going for ...</td>\n",
       "      <td>Negative</td>\n",
       "      <td>tartiicat well new used rift going 700 00 amaz...</td>\n",
       "    </tr>\n",
       "  </tbody>\n",
       "</table>\n",
       "<p>41157 rows × 7 columns</p>\n",
       "</div>"
      ],
      "text/plain": [
       "      UserName ScreenName                      Location     TweetAt  \\\n",
       "0         3799      48751                        London  16-03-2020   \n",
       "1         3800      48752                            UK  16-03-2020   \n",
       "2         3801      48753                     Vagabonds  16-03-2020   \n",
       "3         3802      48754                           NaN  16-03-2020   \n",
       "4         3803      48755                           NaN  16-03-2020   \n",
       "...        ...        ...                           ...         ...   \n",
       "41152    44951      89903  Wellington City, New Zealand  14-04-2020   \n",
       "41153    44952      89904                           NaN  14-04-2020   \n",
       "41154    44953      89905                           NaN  14-04-2020   \n",
       "41155    44954      89906                           NaN  14-04-2020   \n",
       "41156    44955      89907  i love you so much || he/him  14-04-2020   \n",
       "\n",
       "                                           OriginalTweet           Sentiment  \\\n",
       "0      @MeNyrbie @Phil_Gahan @Chrisitv https://t.co/i...             Neutral   \n",
       "1      advice Talk to your neighbours family to excha...            Positive   \n",
       "2      Coronavirus Australia: Woolworths to give elde...            Positive   \n",
       "3      My food stock is not the only one which is emp...            Positive   \n",
       "4      Me, ready to go at supermarket during the #COV...  Extremely Negative   \n",
       "...                                                  ...                 ...   \n",
       "41152  Airline pilots offering to stock supermarket s...             Neutral   \n",
       "41153  Response to complaint not provided citing COVI...  Extremely Negative   \n",
       "41154  You know itÂs getting tough when @KameronWild...            Positive   \n",
       "41155  Is it wrong that the smell of hand sanitizer i...             Neutral   \n",
       "41156  @TartiiCat Well new/used Rift S are going for ...            Negative   \n",
       "\n",
       "                                     Preprocessed_Tweets  \n",
       "0      menyrbie phil gahan chrisitv http co ifz9fan2p...  \n",
       "1      advice talk neighbour family exchange phone nu...  \n",
       "2      coronavirus australia woolworth give elderly d...  \n",
       "3      food stock one empty please panic enough food ...  \n",
       "4      ready go supermarket covid19 outbreak paranoid...  \n",
       "...                                                  ...  \n",
       "41152  airline pilot offering stock supermarket shelf...  \n",
       "41153  response complaint provided citing covid 19 re...  \n",
       "41154  know getting tough kameronwilds rationing toil...  \n",
       "41155  wrong smell hand sanitizer starting turn coron...  \n",
       "41156  tartiicat well new used rift going 700 00 amaz...  \n",
       "\n",
       "[41157 rows x 7 columns]"
      ]
     },
     "execution_count": 13,
     "metadata": {},
     "output_type": "execute_result"
    }
   ],
   "source": [
    "df['Preprocessed_Tweets'] = tweets\n",
    "df"
   ]
  },
  {
   "cell_type": "code",
   "execution_count": 14,
   "id": "628a613f",
   "metadata": {},
   "outputs": [
    {
     "name": "stderr",
     "output_type": "stream",
     "text": [
      "C:\\Users\\HP\\AppData\\Local\\Temp\\ipykernel_24076\\4250833952.py:4: FutureWarning: Passing a negative integer is deprecated in version 1.0 and will not be supported in future version. Instead, use None to not limit the column width.\n",
      "  pd.set_option(\"display.max_colwidth\", -1)\n"
     ]
    },
    {
     "data": {
      "text/html": [
       "<div>\n",
       "<style scoped>\n",
       "    .dataframe tbody tr th:only-of-type {\n",
       "        vertical-align: middle;\n",
       "    }\n",
       "\n",
       "    .dataframe tbody tr th {\n",
       "        vertical-align: top;\n",
       "    }\n",
       "\n",
       "    .dataframe thead th {\n",
       "        text-align: right;\n",
       "    }\n",
       "</style>\n",
       "<table border=\"1\" class=\"dataframe\">\n",
       "  <thead>\n",
       "    <tr style=\"text-align: right;\">\n",
       "      <th></th>\n",
       "      <th>UserName</th>\n",
       "      <th>ScreenName</th>\n",
       "      <th>Location</th>\n",
       "      <th>TweetAt</th>\n",
       "      <th>OriginalTweet</th>\n",
       "      <th>Sentiment</th>\n",
       "      <th>Preprocessed_Tweets</th>\n",
       "    </tr>\n",
       "  </thead>\n",
       "  <tbody>\n",
       "    <tr>\n",
       "      <th>0</th>\n",
       "      <td>3799</td>\n",
       "      <td>48751</td>\n",
       "      <td>London</td>\n",
       "      <td>16-03-2020</td>\n",
       "      <td>@MeNyrbie @Phil_Gahan @Chrisitv https://t.co/iFz9FAn2Pa and https://t.co/xX6ghGFzCC and https://t.co/I2NlzdxNo8</td>\n",
       "      <td>Neutral</td>\n",
       "      <td>menyrbie phil gahan chrisitv http co ifz9fan2pa http co xx6ghgfzcc http co i2nlzdxno8</td>\n",
       "    </tr>\n",
       "    <tr>\n",
       "      <th>1</th>\n",
       "      <td>3800</td>\n",
       "      <td>48752</td>\n",
       "      <td>UK</td>\n",
       "      <td>16-03-2020</td>\n",
       "      <td>advice Talk to your neighbours family to exchange phone numbers create contact list with phone numbers of neighbours schools employer chemist GP set up online shopping accounts if poss adequate supplies of regular meds but not over order</td>\n",
       "      <td>Positive</td>\n",
       "      <td>advice talk neighbour family exchange phone number create contact list phone number neighbour school employer chemist gp set online shopping account po adequate supply regular med order</td>\n",
       "    </tr>\n",
       "    <tr>\n",
       "      <th>2</th>\n",
       "      <td>3801</td>\n",
       "      <td>48753</td>\n",
       "      <td>Vagabonds</td>\n",
       "      <td>16-03-2020</td>\n",
       "      <td>Coronavirus Australia: Woolworths to give elderly, disabled dedicated shopping hours amid COVID-19 outbreak https://t.co/bInCA9Vp8P</td>\n",
       "      <td>Positive</td>\n",
       "      <td>coronavirus australia woolworth give elderly disabled dedicated shopping hour amid covid 19 outbreak http co binca9vp8p</td>\n",
       "    </tr>\n",
       "    <tr>\n",
       "      <th>3</th>\n",
       "      <td>3802</td>\n",
       "      <td>48754</td>\n",
       "      <td>NaN</td>\n",
       "      <td>16-03-2020</td>\n",
       "      <td>My food stock is not the only one which is empty...\\r\\r\\n\\r\\r\\nPLEASE, don't panic, THERE WILL BE ENOUGH FOOD FOR EVERYONE if you do not take more than you need. \\r\\r\\nStay calm, stay safe.\\r\\r\\n\\r\\r\\n#COVID19france #COVID_19 #COVID19 #coronavirus #confinement #Confinementotal #ConfinementGeneral https://t.co/zrlG0Z520j</td>\n",
       "      <td>Positive</td>\n",
       "      <td>food stock one empty please panic enough food everyone take need stay calm stay safe covid19france covid 19 covid19 coronavirus confinement confinementotal confinementgeneral http co zrlg0z520j</td>\n",
       "    </tr>\n",
       "    <tr>\n",
       "      <th>4</th>\n",
       "      <td>3803</td>\n",
       "      <td>48755</td>\n",
       "      <td>NaN</td>\n",
       "      <td>16-03-2020</td>\n",
       "      <td>Me, ready to go at supermarket during the #COVID19 outbreak.\\r\\r\\n\\r\\r\\nNot because I'm paranoid, but because my food stock is litteraly empty. The #coronavirus is a serious thing, but please, don't panic. It causes shortage...\\r\\r\\n\\r\\r\\n#CoronavirusFrance #restezchezvous #StayAtHome #confinement https://t.co/usmuaLq72n</td>\n",
       "      <td>Negative</td>\n",
       "      <td>ready go supermarket covid19 outbreak paranoid food stock litteraly empty coronavirus serious thing please panic cause shortage coronavirusfrance restezchezvous stayathome confinement http co usmualq72n</td>\n",
       "    </tr>\n",
       "    <tr>\n",
       "      <th>...</th>\n",
       "      <td>...</td>\n",
       "      <td>...</td>\n",
       "      <td>...</td>\n",
       "      <td>...</td>\n",
       "      <td>...</td>\n",
       "      <td>...</td>\n",
       "      <td>...</td>\n",
       "    </tr>\n",
       "    <tr>\n",
       "      <th>41152</th>\n",
       "      <td>44951</td>\n",
       "      <td>89903</td>\n",
       "      <td>Wellington City, New Zealand</td>\n",
       "      <td>14-04-2020</td>\n",
       "      <td>Airline pilots offering to stock supermarket shelves in #NZ lockdown #COVID-19 https://t.co/cz89uA0HNp</td>\n",
       "      <td>Neutral</td>\n",
       "      <td>airline pilot offering stock supermarket shelf nz lockdown covid 19 http co cz89ua0hnp</td>\n",
       "    </tr>\n",
       "    <tr>\n",
       "      <th>41153</th>\n",
       "      <td>44952</td>\n",
       "      <td>89904</td>\n",
       "      <td>NaN</td>\n",
       "      <td>14-04-2020</td>\n",
       "      <td>Response to complaint not provided citing COVID-19 related delays. Yet prompt in rejecting policy before consumer TAT is over. Way to go ?</td>\n",
       "      <td>Negative</td>\n",
       "      <td>response complaint provided citing covid 19 related delay yet prompt rejecting policy consumer tat way go</td>\n",
       "    </tr>\n",
       "    <tr>\n",
       "      <th>41154</th>\n",
       "      <td>44953</td>\n",
       "      <td>89905</td>\n",
       "      <td>NaN</td>\n",
       "      <td>14-04-2020</td>\n",
       "      <td>You know itÂs getting tough when @KameronWilds  is rationing toilet paper #coronavirus #toiletpaper @kroger martinsville, help us out!!</td>\n",
       "      <td>Positive</td>\n",
       "      <td>know getting tough kameronwilds rationing toilet paper coronavirus toiletpaper kroger martinsville help u</td>\n",
       "    </tr>\n",
       "    <tr>\n",
       "      <th>41155</th>\n",
       "      <td>44954</td>\n",
       "      <td>89906</td>\n",
       "      <td>NaN</td>\n",
       "      <td>14-04-2020</td>\n",
       "      <td>Is it wrong that the smell of hand sanitizer is starting to turn me on?\\r\\r\\n\\r\\r\\n#coronavirus #COVID19 #coronavirus</td>\n",
       "      <td>Neutral</td>\n",
       "      <td>wrong smell hand sanitizer starting turn coronavirus covid19 coronavirus</td>\n",
       "    </tr>\n",
       "    <tr>\n",
       "      <th>41156</th>\n",
       "      <td>44955</td>\n",
       "      <td>89907</td>\n",
       "      <td>i love you so much || he/him</td>\n",
       "      <td>14-04-2020</td>\n",
       "      <td>@TartiiCat Well new/used Rift S are going for $700.00 on Amazon rn although the normal market price is usually $400.00 . Prices are really crazy right now for vr headsets since HL Alex was announced and it's only been worse with COVID-19. Up to you whethe</td>\n",
       "      <td>Negative</td>\n",
       "      <td>tartiicat well new used rift going 700 00 amazon rn although normal market price usually 400 00 price really crazy right vr headset since hl alex announced worse covid 19 whethe</td>\n",
       "    </tr>\n",
       "  </tbody>\n",
       "</table>\n",
       "<p>41157 rows × 7 columns</p>\n",
       "</div>"
      ],
      "text/plain": [
       "      UserName ScreenName                      Location     TweetAt  \\\n",
       "0      3799     48751      London                        16-03-2020   \n",
       "1      3800     48752      UK                            16-03-2020   \n",
       "2      3801     48753      Vagabonds                     16-03-2020   \n",
       "3      3802     48754      NaN                           16-03-2020   \n",
       "4      3803     48755      NaN                           16-03-2020   \n",
       "...     ...       ...      ...                                  ...   \n",
       "41152  44951    89903      Wellington City, New Zealand  14-04-2020   \n",
       "41153  44952    89904      NaN                           14-04-2020   \n",
       "41154  44953    89905      NaN                           14-04-2020   \n",
       "41155  44954    89906      NaN                           14-04-2020   \n",
       "41156  44955    89907      i love you so much || he/him  14-04-2020   \n",
       "\n",
       "                                                                                                                                                                                                                                                                                                                            OriginalTweet  \\\n",
       "0      @MeNyrbie @Phil_Gahan @Chrisitv https://t.co/iFz9FAn2Pa and https://t.co/xX6ghGFzCC and https://t.co/I2NlzdxNo8                                                                                                                                                                                                                      \n",
       "1      advice Talk to your neighbours family to exchange phone numbers create contact list with phone numbers of neighbours schools employer chemist GP set up online shopping accounts if poss adequate supplies of regular meds but not over order                                                                                        \n",
       "2      Coronavirus Australia: Woolworths to give elderly, disabled dedicated shopping hours amid COVID-19 outbreak https://t.co/bInCA9Vp8P                                                                                                                                                                                                  \n",
       "3      My food stock is not the only one which is empty...\\r\\r\\n\\r\\r\\nPLEASE, don't panic, THERE WILL BE ENOUGH FOOD FOR EVERYONE if you do not take more than you need. \\r\\r\\nStay calm, stay safe.\\r\\r\\n\\r\\r\\n#COVID19france #COVID_19 #COVID19 #coronavirus #confinement #Confinementotal #ConfinementGeneral https://t.co/zrlG0Z520j    \n",
       "4      Me, ready to go at supermarket during the #COVID19 outbreak.\\r\\r\\n\\r\\r\\nNot because I'm paranoid, but because my food stock is litteraly empty. The #coronavirus is a serious thing, but please, don't panic. It causes shortage...\\r\\r\\n\\r\\r\\n#CoronavirusFrance #restezchezvous #StayAtHome #confinement https://t.co/usmuaLq72n   \n",
       "...                                                                                                                                                                                                                                                                                                                                   ...   \n",
       "41152  Airline pilots offering to stock supermarket shelves in #NZ lockdown #COVID-19 https://t.co/cz89uA0HNp                                                                                                                                                                                                                               \n",
       "41153  Response to complaint not provided citing COVID-19 related delays. Yet prompt in rejecting policy before consumer TAT is over. Way to go ?                                                                                                                                                                                           \n",
       "41154  You know itÂs getting tough when @KameronWilds  is rationing toilet paper #coronavirus #toiletpaper @kroger martinsville, help us out!!                                                                                                                                                                                             \n",
       "41155  Is it wrong that the smell of hand sanitizer is starting to turn me on?\\r\\r\\n\\r\\r\\n#coronavirus #COVID19 #coronavirus                                                                                                                                                                                                                \n",
       "41156  @TartiiCat Well new/used Rift S are going for $700.00 on Amazon rn although the normal market price is usually $400.00 . Prices are really crazy right now for vr headsets since HL Alex was announced and it's only been worse with COVID-19. Up to you whethe                                                                      \n",
       "\n",
       "      Sentiment  \\\n",
       "0      Neutral    \n",
       "1      Positive   \n",
       "2      Positive   \n",
       "3      Positive   \n",
       "4      Negative   \n",
       "...         ...   \n",
       "41152  Neutral    \n",
       "41153  Negative   \n",
       "41154  Positive   \n",
       "41155  Neutral    \n",
       "41156  Negative   \n",
       "\n",
       "                                                                                                                                                                                              Preprocessed_Tweets  \n",
       "0      menyrbie phil gahan chrisitv http co ifz9fan2pa http co xx6ghgfzcc http co i2nlzdxno8                                                                                                                       \n",
       "1      advice talk neighbour family exchange phone number create contact list phone number neighbour school employer chemist gp set online shopping account po adequate supply regular med order                   \n",
       "2      coronavirus australia woolworth give elderly disabled dedicated shopping hour amid covid 19 outbreak http co binca9vp8p                                                                                     \n",
       "3      food stock one empty please panic enough food everyone take need stay calm stay safe covid19france covid 19 covid19 coronavirus confinement confinementotal confinementgeneral http co zrlg0z520j           \n",
       "4      ready go supermarket covid19 outbreak paranoid food stock litteraly empty coronavirus serious thing please panic cause shortage coronavirusfrance restezchezvous stayathome confinement http co usmualq72n  \n",
       "...                                                                                                                                                                                                           ...  \n",
       "41152  airline pilot offering stock supermarket shelf nz lockdown covid 19 http co cz89ua0hnp                                                                                                                      \n",
       "41153  response complaint provided citing covid 19 related delay yet prompt rejecting policy consumer tat way go                                                                                                   \n",
       "41154  know getting tough kameronwilds rationing toilet paper coronavirus toiletpaper kroger martinsville help u                                                                                                   \n",
       "41155  wrong smell hand sanitizer starting turn coronavirus covid19 coronavirus                                                                                                                                    \n",
       "41156  tartiicat well new used rift going 700 00 amazon rn although normal market price usually 400 00 price really crazy right vr headset since hl alex announced worse covid 19 whethe                           \n",
       "\n",
       "[41157 rows x 7 columns]"
      ]
     },
     "execution_count": 14,
     "metadata": {},
     "output_type": "execute_result"
    }
   ],
   "source": [
    "# Converting 'Extremely Positive' sentiments to 'Positive' and 'Extremely Negative' sentiments to 'Negative'\n",
    "\n",
    "df = df.replace({'Sentiment': {'Extremely Positive' : 'Positive', 'Extremely Negative' : 'Negative'}})\n",
    "pd.set_option(\"display.max_colwidth\", -1)\n",
    "df"
   ]
  },
  {
   "cell_type": "code",
   "execution_count": 15,
   "id": "faa6e9fe",
   "metadata": {},
   "outputs": [
    {
     "data": {
      "text/plain": [
       "array([[0, 0, 0, ..., 0, 0, 0],\n",
       "       [0, 0, 0, ..., 0, 0, 0],\n",
       "       [0, 0, 0, ..., 0, 0, 0],\n",
       "       ...,\n",
       "       [0, 0, 0, ..., 0, 0, 0],\n",
       "       [0, 0, 0, ..., 0, 0, 0],\n",
       "       [0, 0, 0, ..., 0, 0, 0]], dtype=int64)"
      ]
     },
     "execution_count": 15,
     "metadata": {},
     "output_type": "execute_result"
    }
   ],
   "source": [
    "from sklearn.feature_extraction.text import CountVectorizer\n",
    "cv = CountVectorizer(max_features=3000)\n",
    "sm = cv.fit_transform(df['Preprocessed_Tweets'].iloc[:15000]).toarray()\n",
    "sm"
   ]
  },
  {
   "cell_type": "code",
   "execution_count": 16,
   "id": "fa967261",
   "metadata": {},
   "outputs": [
    {
     "name": "stdout",
     "output_type": "stream",
     "text": [
      "['00', '000', '03', '10', '100', '1000', '10downingstreet', '11', '12', '13', '14', '15', '16', '17', '18', '19', '19th', '19uk', '1st', '20', '200', '2008', '2019', '2020', '21', '22', '23', '24', '25', '26', '27', '28', '29', '2nd', '30', '300', '30am', '31', '35', '3rd', '40', '400', '45', '48', '50', '500', '55', '60', '65', '6am', '6ft', '70', '75', '7am', '80', '800', '8am', '8pm', '90', '95', '99', '9am', 'abc', 'abcnews', 'ability', 'able', 'absolute', 'absolutely', 'abt', 'abuse', 'abused', 'accept', 'access', 'according', 'account', 'across', 'act', 'acting', 'action', 'active', 'activity', 'actor', 'actual', 'actually', 'ad', 'adapt', 'add', 'added', 'adding', 'additional', 'address', 'adjusted', 'administration', 'adult', 'advantage', 'advertising', 'advice', 'advised', 'affair', 'affect', 'affected', 'affecting', 'afford', 'affordable', 'afloat', 'afraid', 'africa', 'african', 'afternoon', 'ag', 'age', 'agency', 'agent', 'ago', 'agree', 'agreed', 'agricultural', 'agriculture', 'ahead', 'aid', 'air', 'airline', 'airport', 'aisle', 'al', 'alberta', 'alcohol', 'aldi', 'aldiuk', 'alert', 'alive', 'allergy', 'allow', 'allowed', 'allowing', 'almost', 'alone', 'along', 'already', 'also', 'alternative', 'although', 'always', 'amazing', 'amazon', 'america', 'american', 'amid', 'amidst', 'ammo', 'among', 'amount', 'amp', 'analysis', 'analyst', 'angela', 'angeles', 'angry', 'animal', 'announce', 'announced', 'announcement', 'announces', 'another', 'answer', 'anti', 'anxiety', 'anxious', 'anybody', 'anymore', 'anyone', 'anything', 'anyway', 'anywhere', 'apart', 'apocalypse', 'app', 'appalling', 'apparently', 'appeal', 'appear', 'appears', 'apple', 'apply', 'appointment', 'appreciate', 'appreciated', 'appreciation', 'approach', 'approved', 'apps', 'april', 'arabia', 'area', 'arm', 'army', 'around', 'arrest', 'arrested', 'arrived', 'arsehole', 'art', 'article', 'artist', 'as', 'asap', 'asda', 'asdaserviceteam', 'ashamed', 'asian', 'aside', 'ask', 'asked', 'asking', 'asks', 'ass', 'asset', 'asshole', 'assist', 'assistance', 'assistant', 'associate', 'association', 'assume', 'assure', 'assured', 'asthma', 'atm', 'attack', 'attempt', 'attendant', 'attention', 'attitude', 'attorney', 'auspol', 'aussie', 'australia', 'australian', 'authority', 'availability', 'available', 'average', 'avoid', 'avoiding', 'aware', 'awareness', 'away', 'awesome', 'awful', 'baby', 'back', 'bad', 'badly', 'bag', 'bailout', 'bailouts', 'bakery', 'ban', 'bank', 'banker', 'banking', 'banned', 'bar', 'bare', 'barely', 'bargain', 'barrel', 'base', 'based', 'basic', 'basically', 'basis', 'basket', 'bastard', 'battle', 'bay', 'bbc', 'bbcbreakfast', 'bbcnews', 'bc', 'beach', 'bean', 'bear', 'beat', 'beauty', 'became', 'become', 'becomes', 'becoming', 'bed', 'beef', 'beer', 'began', 'begin', 'beginning', 'begun', 'behaving', 'behavior', 'behaviour', 'behind', 'bekind', 'believe', 'benefit', 'bent', 'berlin', 'besafe', 'besides', 'best', 'bet', 'better', 'beverage', 'beware', 'beyond', 'bid', 'bidet', 'big', 'bigger', 'biggest', 'bill', 'billion', 'bin', 'bird', 'birthday', 'bit', 'bitch', 'bitcoin', 'black', 'blame', 'bleach', 'bless', 'block', 'blog', 'blood', 'bloody', 'blow', 'blue', 'board', 'body', 'bog', 'bond', 'bonus', 'book', 'booked', 'booking', 'boomer', 'boost', 'boosting', 'booze', 'border', 'bored', 'boredom', 'boris', 'borisjohnson', 'bos', 'boss', 'bottle', 'bottled', 'bottom', 'bought', 'box', 'boycott', 'bracing', 'brad', 'bradpaisley', 'brand', 'brave', 'bread', 'break', 'breakfast', 'breaking', 'breakingnews', 'brent', 'brescia', 'brexit', 'briefing', 'bright', 'brilliant', 'bring', 'bringing', 'brings', 'britain', 'british', 'broke', 'broken', 'brother', 'brought', 'bt', 'btw', 'buck', 'budget', 'build', 'building', 'bulk', 'bullshit', 'bunch', 'bus', 'bushcraft', 'business', 'busy', 'butcher', 'butter', 'buy', 'buyer', 'buying', 'ca', 'cafe', 'cake', 'calculator', 'california', 'call', 'called', 'calling', 'calm', 'calpol', 'came', 'campaign', 'can', 'canada', 'canadian', 'cancel', 'cancellation', 'cancelled', 'cancelling', 'cannabis', 'canned', 'cant', 'cap', 'capacity', 'capital', 'capitalism', 'capitalist', 'capped', 'car', 'card', 'care', 'careful', 'caring', 'carrier', 'carry', 'carrying', 'cart', 'case', 'cash', 'cashier', 'cat', 'catch', 'catching', 'category', 'cattle', 'caught', 'cause', 'caused', 'causing', 'caution', 'cbd', 'cc', 'cdc', 'cdcgov', 'celebrity', 'cent', 'center', 'central', 'centre', 'ceo', 'certain', 'certainly', 'chain', 'challenge', 'challenging', 'chance', 'chancellor', 'change', 'changed', 'changing', 'channel', 'chaos', 'charge', 'charged', 'charging', 'charity', 'charmin', 'chat', 'cheap', 'cheaper', 'check', 'checked', 'checking', 'checkout', 'cheese', 'chemist', 'chicago', 'chicken', 'chief', 'child', 'childcare', 'chill', 'china', 'chinavirus', 'chinese', 'chinesevirus']\n"
     ]
    },
    {
     "name": "stderr",
     "output_type": "stream",
     "text": [
      "D:\\Anaconda\\lib\\site-packages\\sklearn\\utils\\deprecation.py:87: FutureWarning: Function get_feature_names is deprecated; get_feature_names is deprecated in 1.0 and will be removed in 1.2. Please use get_feature_names_out instead.\n",
      "  warnings.warn(msg, category=FutureWarning)\n"
     ]
    }
   ],
   "source": [
    "print(cv.get_feature_names()[:500])"
   ]
  },
  {
   "cell_type": "code",
   "execution_count": 17,
   "id": "3c1ecaa5",
   "metadata": {},
   "outputs": [
    {
     "data": {
      "text/plain": [
       "Positive    18046\n",
       "Negative    15398\n",
       "Neutral     7713 \n",
       "Name: Sentiment, dtype: int64"
      ]
     },
     "execution_count": 17,
     "metadata": {},
     "output_type": "execute_result"
    }
   ],
   "source": [
    "df['Sentiment'].value_counts()"
   ]
  },
  {
   "cell_type": "code",
   "execution_count": 18,
   "id": "0bb663c8",
   "metadata": {},
   "outputs": [
    {
     "data": {
      "text/plain": [
       "2    18046\n",
       "0    15398\n",
       "1    7713 \n",
       "Name: Sentiment, dtype: int64"
      ]
     },
     "execution_count": 18,
     "metadata": {},
     "output_type": "execute_result"
    }
   ],
   "source": [
    "from sklearn.preprocessing import LabelEncoder\n",
    "lb = LabelEncoder()\n",
    "df['Sentiment'] = lb.fit_transform(df['Sentiment'])\n",
    "df['Sentiment'].value_counts()"
   ]
  },
  {
   "cell_type": "code",
   "execution_count": 19,
   "id": "3c2ccad1",
   "metadata": {},
   "outputs": [
    {
     "name": "stdout",
     "output_type": "stream",
     "text": [
      "<class 'numpy.ndarray'>\n",
      "<class 'pandas.core.series.Series'>\n"
     ]
    }
   ],
   "source": [
    "x = sm\n",
    "y = df['Sentiment'].iloc[:15000]\n",
    "print(type(x))\n",
    "print(type(y))"
   ]
  },
  {
   "cell_type": "code",
   "execution_count": 20,
   "id": "f064dae7",
   "metadata": {},
   "outputs": [
    {
     "name": "stdout",
     "output_type": "stream",
     "text": [
      "(11250, 3000)\n",
      "(3750, 3000)\n",
      "(11250,)\n",
      "(3750,)\n"
     ]
    }
   ],
   "source": [
    "# Splitting the given data into Training and Testing data\n",
    "\n",
    "from sklearn.model_selection import train_test_split\n",
    "x_train,x_test,y_train,y_test = train_test_split(x,y,test_size=0.25)\n",
    "print(x_train.shape)\n",
    "print(x_test.shape)\n",
    "print(y_train.shape)\n",
    "print(y_test.shape)"
   ]
  },
  {
   "cell_type": "code",
   "execution_count": 21,
   "id": "0936e671",
   "metadata": {},
   "outputs": [
    {
     "name": "stdout",
     "output_type": "stream",
     "text": [
      "0.7472\n",
      "0.6605333333333333\n"
     ]
    }
   ],
   "source": [
    "#Applying Naive Bayes Classification\n",
    "\n",
    "from sklearn.naive_bayes import MultinomialNB\n",
    "m1 = MultinomialNB()\n",
    "m1.fit(x_train, y_train)\n",
    "print(m1.score(x_train,y_train))\n",
    "print(m1.score(x_test,y_test))"
   ]
  },
  {
   "cell_type": "code",
   "execution_count": 22,
   "id": "83d779fa",
   "metadata": {},
   "outputs": [
    {
     "name": "stdout",
     "output_type": "stream",
     "text": [
      "[2 2 1 2 0 0 1 2 0 2 2 2 1 1 0 0 2 0 0 2 0 2 0 0 0 0 2 0 2 0 2 0 2 2 0 1 0\n",
      " 0 0 2 0 0 2 1 0 0 0 2 0 0 2 2 0 2 0 2 2 0 2 2 0 0 0 0 2 0 0 0 0 0 1 2 2 2\n",
      " 2 0 0 0 2 0 1 0 2 1 0 2 2 2 0 1 2 2 2 2 0 0 1 0 2 2 2 2 2 2 2 0 2 2 2 0 2\n",
      " 2 0 2 2 0 0 2 2 1 1 2 0 2 0 2 2 0 0 2 2 0 1 2 2 0 1 2 0 0 2 1 1 2 0 2 0 2\n",
      " 0 1 1 1 0 1 2 2 0 2 0 1 2 0 0 1 2 0 2 0 0 2 0 0 0 2 0 0 1 2 2 0 2 0 2 2 0\n",
      " 2 0 2 0 0 1 1 2 0 1 0 2 1 1 0 1 2 0 1 0 0 2 1 0 0 2 2 2 1 0 0 0 0 0 2 2 0\n",
      " 0 0 1 2 0 2 1 1 0 1 2 0 0 1 2 2 2 0 0 0 2 0 2 1 2 2 1 0 2 1 0 1 2 2 2 0 2\n",
      " 2 2 1 2 0 2 2 2 2 0 2 2 2 2 0 2 0 1 0 2 0 1 0 2 0 0 2 0 2 2 2 1 1 1 2 2 0\n",
      " 1 0 0 2 2 0 0 0 2 0 2 1 1 0 0 1 0 0 2 0 2 0 1 0 0 0 0 2 2 1 2 0 0 2 0 0 0\n",
      " 1 1 2 2 0 2 0 0 0 0 2 0 1 0 2 0 2 1 1 2 1 0 1 0 1 1 2 2 0 2 0 0 1 1 0 2 0\n",
      " 1 0 0 2 1 1 2 0 2 2 1 2 0 0 2 2 0 0 2 0 1 2 0 0 2 0 0 1 0 0 2 0 2 1 0 2 2\n",
      " 1 0 2 2 2 2 0 0 2 2 0 0 1 0 0 1 0 0 0 0 1 0 0 1 0 2 1 0 2 2 2 0 0 0 1 2 0\n",
      " 2 0 2 1 0 2 2 2 0 1 0 0 2 2 0 0 1 2 2 2 2 2 0 2 2 2 1 0 1 2 2 0 2 0 2 1 2\n",
      " 2 0 0 2 0 2 2 0 0 1 2 0 2 0 0 1 2 2 0]\n"
     ]
    }
   ],
   "source": [
    "ypred_m1 = m1.predict(x_test)\n",
    "print(ypred_m1[:500])"
   ]
  },
  {
   "cell_type": "code",
   "execution_count": 23,
   "id": "94d0f5e2",
   "metadata": {},
   "outputs": [
    {
     "name": "stdout",
     "output_type": "stream",
     "text": [
      "[[1073  160  299]\n",
      " [ 138  350  160]\n",
      " [ 319  197 1054]]\n",
      "              precision    recall  f1-score   support\n",
      "\n",
      "           0       0.70      0.70      0.70      1532\n",
      "           1       0.50      0.54      0.52       648\n",
      "           2       0.70      0.67      0.68      1570\n",
      "\n",
      "    accuracy                           0.66      3750\n",
      "   macro avg       0.63      0.64      0.63      3750\n",
      "weighted avg       0.66      0.66      0.66      3750\n",
      "\n"
     ]
    }
   ],
   "source": [
    "from sklearn.metrics import confusion_matrix, classification_report\n",
    "cm = confusion_matrix(y_test, ypred_m1)\n",
    "print(cm)\n",
    "print(classification_report(y_test,ypred_m1))"
   ]
  },
  {
   "cell_type": "code",
   "execution_count": 24,
   "id": "23a72660",
   "metadata": {},
   "outputs": [
    {
     "name": "stdout",
     "output_type": "stream",
     "text": [
      "0.9999111111111111\n",
      "0.376\n"
     ]
    }
   ],
   "source": [
    "#Applying KNN \n",
    "\n",
    "from sklearn.neighbors import KNeighborsClassifier\n",
    "m2 = KNeighborsClassifier(n_neighbors = 1)\n",
    "m2.fit(x_train,y_train)\n",
    "print(m2.score(x_train,y_train))\n",
    "print(m2.score(x_test,y_test))"
   ]
  },
  {
   "cell_type": "code",
   "execution_count": 25,
   "id": "945427e4",
   "metadata": {},
   "outputs": [
    {
     "name": "stdout",
     "output_type": "stream",
     "text": [
      "[1 1 1 1 1 1 1 1 2 2 1 2 1 1 1 1 1 0 1 0 0 1 0 0 1 0 1 2 1 2 2 0 1 1 1 1 1\n",
      " 0 0 2 1 0 0 1 0 0 0 1 0 0 0 2 2 2 1 1 1 0 2 1 1 0 1 1 2 1 0 1 1 1 0 1 2 0\n",
      " 2 0 1 0 0 1 1 1 1 2 1 2 1 1 1 1 2 2 0 1 0 1 2 0 2 2 1 2 2 1 1 1 1 2 1 0 1\n",
      " 0 1 2 0 0 0 2 0 1 1 0 1 1 0 1 1 0 1 0 1 1 1 1 1 0 1 0 1 1 0 1 1 1 0 2 1 1\n",
      " 1 1 1 1 1 2 1 1 0 1 0 0 1 0 1 1 1 0 0 2 1 2 0 1 0 1 1 0 1 1 1 1 1 1 0 1 0\n",
      " 1 1 1 1 1 1 1 1 0 1 1 2 1 1 1 1 1 1 0 0 1 1 1 0 2 1 1 1 2 1 2 0 0 1 1 0 1\n",
      " 1 0 1 1 1 1 1 1 0 1 1 0 0 1 0 1 1 0 0 1 1 1 2 0 2 0 1 1 0 2 0 0 1 1 1 0 1\n",
      " 1 1 1 0 2 1 1 1 0 0 1 2 1 1 1 1 1 1 0 1 0 1 1 1 1 2 1 1 1 2 1 1 1 0 0 1 0\n",
      " 1 0 1 1 1 1 0 0 1 1 0 1 1 0 1 1 2 1 1 1 0 1 1 1 0 1 1 0 1 1 1 1 0 1 1 0 1\n",
      " 1 0 1 1 1 0 0 1 0 0 1 0 1 1 1 0 1 1 2 1 2 0 1 1 1 1 1 0 0 1 0 0 1 1 0 2 1\n",
      " 1 1 1 1 1 1 1 0 0 1 0 1 1 1 1 1 1 0 1 1 2 1 1 0 0 1 0 0 0 0 1 0 1 0 0 1 1\n",
      " 1 0 1 1 1 1 1 0 0 1 0 1 1 0 0 1 0 1 1 1 2 0 1 2 1 2 2 0 1 1 1 1 1 0 1 2 2\n",
      " 1 2 0 2 0 1 0 1 1 1 1 0 0 1 1 2 1 1 0 2 1 1 1 1 1 1 1 0 1 1 1 0 1 1 1 1 0\n",
      " 0 0 0 1 0 0 1 1 1 1 1 0 2 0 0 1 2 2 1]\n"
     ]
    }
   ],
   "source": [
    "ypred_m2 = m2.predict(x_test)\n",
    "print(ypred_m2[:500])"
   ]
  },
  {
   "cell_type": "code",
   "execution_count": 26,
   "id": "6a2e0bc8",
   "metadata": {},
   "outputs": [
    {
     "name": "stdout",
     "output_type": "stream",
     "text": [
      "[[588 820 124]\n",
      " [109 491  48]\n",
      " [316 923 331]]\n",
      "              precision    recall  f1-score   support\n",
      "\n",
      "           0       0.58      0.38      0.46      1532\n",
      "           1       0.22      0.76      0.34       648\n",
      "           2       0.66      0.21      0.32      1570\n",
      "\n",
      "    accuracy                           0.38      3750\n",
      "   macro avg       0.49      0.45      0.37      3750\n",
      "weighted avg       0.55      0.38      0.38      3750\n",
      "\n"
     ]
    }
   ],
   "source": [
    "from sklearn.metrics import confusion_matrix, classification_report\n",
    "cm = confusion_matrix(y_test, ypred_m2)\n",
    "print(cm)\n",
    "print(classification_report(y_test,ypred_m2))"
   ]
  },
  {
   "cell_type": "code",
   "execution_count": 27,
   "id": "2627f3af",
   "metadata": {},
   "outputs": [],
   "source": [
    "# Calculating error for k values between 1 and 60\n",
    "\n",
    "error = []\n",
    "for i in range(1,60):\n",
    "    knn = KNeighborsClassifier(n_neighbors = i)\n",
    "    knn.fit(x_train,y_train)\n",
    "    pred_i = knn.predict(x_test)\n",
    "    error.append(np.mean(pred_i != y_test))"
   ]
  },
  {
   "cell_type": "code",
   "execution_count": 28,
   "id": "276409d5",
   "metadata": {},
   "outputs": [
    {
     "data": {
      "text/plain": [
       "Text(0, 0.5, 'Mean Error')"
      ]
     },
     "execution_count": 28,
     "metadata": {},
     "output_type": "execute_result"
    },
    {
     "data": {
      "image/png": "[encoded data removed]",
      "text/plain": [
       "<Figure size 720x576 with 1 Axes>"
      ]
     },
     "metadata": {
      "needs_background": "light"
     },
     "output_type": "display_data"
    }
   ],
   "source": [
    "# Plotting Graph of K Value vs Mean Error\n",
    "\n",
    "import matplotlib.pyplot as plt\n",
    "plt.figure(figsize=(10, 8))\n",
    "plt.plot(range(1, 60), error, color='red', linestyle='dashed', marker='o', markerfacecolor='blue', markersize=10)\n",
    "plt.title('Error Rate for K value')\n",
    "plt.xlabel('K Value')\n",
    "plt.ylabel('Mean Error')"
   ]
  },
  {
   "cell_type": "markdown",
   "id": "7e0fe8ce",
   "metadata": {},
   "source": [
    "The result obtained above shows that the knn model has least error for K values between 1 to 5. \n",
    "So to obtain the best results we should select K values between this range.\n",
    "We have obtained the result for K=1 previously, providing an accuracy of about 36%"
   ]
  },
  {
   "cell_type": "code",
   "execution_count": 31,
   "id": "16f08b7f",
   "metadata": {},
   "outputs": [],
   "source": [
    "# HyperParameter Tuning for SVM Classifier to find the best parameters\n",
    "\n",
    "from sklearn.svm import SVC\n",
    "parameter_grid = {'C' : [0.1, 1, 10, 100],\n",
    "                  'gamma': [1, 0.1, 0.01, 0.001],\n",
    "                  'kernel' : ['rbf']}\n"
   ]
  },
  {
   "cell_type": "code",
   "execution_count": 32,
   "id": "f2557c51",
   "metadata": {},
   "outputs": [],
   "source": [
    "SVM_model = SVC(gamma='auto')"
   ]
  },
  {
   "cell_type": "code",
   "execution_count": 33,
   "id": "9c93aa7e",
   "metadata": {},
   "outputs": [
    {
     "name": "stdout",
     "output_type": "stream",
     "text": [
      "Fitting 3 folds for each of 10 candidates, totalling 30 fits\n"
     ]
    },
    {
     "data": {
      "text/plain": [
       "RandomizedSearchCV(cv=3, estimator=SVC(gamma='auto'), n_jobs=4,\n",
       "                   param_distributions={'C': [0.1, 1, 10, 100],\n",
       "                                        'gamma': [1, 0.1, 0.01, 0.001],\n",
       "                                        'kernel': ['rbf']},\n",
       "                   verbose=2)"
      ]
     },
     "execution_count": 33,
     "metadata": {},
     "output_type": "execute_result"
    }
   ],
   "source": [
    "# Performing Random Grid Search\n",
    "\n",
    "from sklearn.model_selection import RandomizedSearchCV\n",
    "rf_grid = RandomizedSearchCV (estimator = SVM_model, param_distributions = parameter_grid, cv = 3, verbose = 2, n_jobs = 4)\n",
    "rf_grid.fit(x,y)"
   ]
  },
  {
   "cell_type": "code",
   "execution_count": 34,
   "id": "6df74c8d",
   "metadata": {},
   "outputs": [
    {
     "data": {
      "text/plain": [
       "SVC(C=100, gamma=0.01)"
      ]
     },
     "execution_count": 34,
     "metadata": {},
     "output_type": "execute_result"
    }
   ],
   "source": [
    "rf_grid.best_estimator_"
   ]
  },
  {
   "cell_type": "code",
   "execution_count": 35,
   "id": "8ed1a286",
   "metadata": {},
   "outputs": [],
   "source": [
    "# Applying SVM Classifier with rbf kernel\n",
    "\n",
    "m4 = SVC(kernel = 'rbf', C=100, gamma = 0.01)"
   ]
  },
  {
   "cell_type": "code",
   "execution_count": 36,
   "id": "1f313b15",
   "metadata": {},
   "outputs": [
    {
     "name": "stdout",
     "output_type": "stream",
     "text": [
      "0.9974222222222222\n",
      "0.7226666666666667\n"
     ]
    }
   ],
   "source": [
    "m4.fit(x_train, y_train)\n",
    "print(m4.score(x_train, y_train))\n",
    "print(m4.score(x_test, y_test))"
   ]
  },
  {
   "cell_type": "code",
   "execution_count": 37,
   "id": "f034a662",
   "metadata": {},
   "outputs": [
    {
     "name": "stdout",
     "output_type": "stream",
     "text": [
      "[2 1 2 2 0 0 1 0 2 0 0 2 0 1 2 0 2 0 0 2 0 2 0 0 0 0 2 2 0 0 2 0 2 0 2 1 0\n",
      " 0 0 2 0 2 2 1 0 0 0 2 0 0 2 2 2 2 0 0 2 0 2 2 2 0 0 0 2 2 1 2 1 1 0 1 2 2\n",
      " 2 0 0 0 2 0 1 0 2 1 0 0 2 2 2 1 2 2 2 0 0 0 1 0 2 2 0 2 2 2 2 2 2 2 2 0 2\n",
      " 0 2 2 2 0 0 2 0 1 1 2 0 2 2 2 1 0 0 2 0 0 2 0 1 0 1 2 0 0 2 1 0 2 1 2 0 1\n",
      " 2 1 1 1 1 2 2 1 0 2 2 0 2 0 0 0 2 0 2 0 1 2 0 0 0 2 2 0 0 2 2 0 0 0 2 2 0\n",
      " 2 0 2 0 2 1 2 2 0 1 0 2 1 2 0 2 1 1 1 0 0 1 1 0 0 1 2 2 0 0 2 1 0 0 1 2 0\n",
      " 2 1 1 2 1 2 1 1 0 1 1 0 2 2 2 2 0 0 0 0 2 1 2 0 2 2 1 0 1 1 0 1 2 0 2 0 2\n",
      " 2 0 0 2 2 0 1 2 0 0 2 0 1 0 0 2 0 1 0 2 0 2 0 0 0 0 0 0 0 2 0 1 2 0 0 2 0\n",
      " 1 0 0 2 0 1 0 0 2 0 2 0 1 2 1 1 0 0 0 1 0 0 1 0 0 1 0 0 0 1 2 0 0 2 0 0 0\n",
      " 1 0 0 2 0 2 0 0 0 0 0 0 2 1 2 0 2 0 0 1 2 2 1 0 1 0 2 2 0 0 0 0 1 1 0 2 0\n",
      " 1 1 0 1 1 1 2 0 2 2 0 2 2 0 2 2 0 0 2 0 0 0 0 0 0 0 0 0 0 0 0 0 2 2 0 0 2\n",
      " 0 0 2 0 2 1 0 0 1 2 0 2 1 0 0 2 0 1 0 0 2 0 0 0 0 2 2 0 2 2 2 0 2 2 2 0 0\n",
      " 2 0 2 2 0 2 2 2 0 1 0 0 1 2 1 0 1 2 2 2 2 2 0 1 2 2 1 2 1 2 2 0 0 0 2 1 0\n",
      " 2 0 0 2 0 2 2 0 1 1 2 0 2 0 0 1 2 2 0]\n"
     ]
    }
   ],
   "source": [
    "ypred_m4 = m4.predict(x_test)\n",
    "print(ypred_m4[:500])"
   ]
  },
  {
   "cell_type": "code",
   "execution_count": 38,
   "id": "678bd7f8",
   "metadata": {},
   "outputs": [
    {
     "name": "stdout",
     "output_type": "stream",
     "text": [
      "[[1158  137  237]\n",
      " [ 124  421  103]\n",
      " [ 299  140 1131]]\n",
      "              precision    recall  f1-score   support\n",
      "\n",
      "           0       0.73      0.76      0.74      1532\n",
      "           1       0.60      0.65      0.63       648\n",
      "           2       0.77      0.72      0.74      1570\n",
      "\n",
      "    accuracy                           0.72      3750\n",
      "   macro avg       0.70      0.71      0.70      3750\n",
      "weighted avg       0.73      0.72      0.72      3750\n",
      "\n"
     ]
    }
   ],
   "source": [
    "from sklearn.metrics import confusion_matrix, classification_report\n",
    "cm = confusion_matrix(y_test, ypred_m4)\n",
    "print(cm)\n",
    "print(classification_report(y_test,ypred_m4))"
   ]
  },
  {
   "cell_type": "code",
   "execution_count": 40,
   "id": "160752e2",
   "metadata": {},
   "outputs": [],
   "source": [
    "# Applying SVM Classifier with linear kernel\n",
    "\n",
    "m3 = SVC(kernel = 'linear', C=0.1, gamma=0.001)"
   ]
  },
  {
   "cell_type": "markdown",
   "id": "8fa3c4ff",
   "metadata": {},
   "source": [
    "Here, after performing Grid Search for SVM with linear kernel, the values for C and gamma obtained are respectively 0.1 and 0.001."
   ]
  },
  {
   "cell_type": "code",
   "execution_count": 41,
   "id": "595fcdb3",
   "metadata": {},
   "outputs": [
    {
     "name": "stdout",
     "output_type": "stream",
     "text": [
      "0.8546666666666667\n",
      "0.7426666666666667\n"
     ]
    }
   ],
   "source": [
    "m3.fit(x_train,y_train)\n",
    "print(m3.score(x_train,y_train)) \n",
    "print(m3.score(x_test,y_test))"
   ]
  },
  {
   "cell_type": "code",
   "execution_count": 42,
   "id": "ea780e2e",
   "metadata": {},
   "outputs": [
    {
     "name": "stdout",
     "output_type": "stream",
     "text": [
      "[0 1 2 0 2 1 2 0 0 2 0 0 0 0 0 0 0 0 2 0 1 2 0 0 0 2 0 0 0 2 0 2 0 2 0 2 2\n",
      " 0 0 1 0 0 2 0 2 0 2 1 2 0 0 1 0 0 1 0 2 0 0 0 1 2 1 2 0 2 2 1 2 2 1 2 0 2\n",
      " 0 0 2 2 2 0 0 0 1 1 2 0 0 0 2 2 0 1 2 0 2 2 1 0 2 0 2 1 0 0 0 0 2 0 1 0 2\n",
      " 2 1 0 2 1 0 0 0 2 2 0 0 2 0 0 0 2 0 0 0 2 0 2 0 0 2 0 2 2 1 0 0 2 1 1 2 0\n",
      " 1 2 2 0 2 2 0 0 0 2 0 1 2 0 2 2 2 0 0 2 0 2 2 0 1 0 2 1 2 1 2 2 2 0 0 0 2\n",
      " 0 0 2 0 1 2 0 2 0 2 0 2 0 2 2 0 0 0 1 0 0 2 2 2 1 0 0 2 2 2 2 2 0 1 0 0 0\n",
      " 2 2 2 2 1 2 1 0 2 2 0 1 0 0 0 2 0 0 0 1 1 2 2 0 2 0 2 0 0 0 0 1 1 1 0 2 2\n",
      " 0 0 2 1 0 2 0 1 0 2 0 2 0 1 1 0 2 0 0 1 2 1 2 2 0 0 2 2 2 2 1 0 2 0 1 2 2\n",
      " 0 0 0 2 2 1 2 2 0 0 2 2 2 0 2 2 1 2 0 1 0 0 2 2 1 2 0 0 0 0 0 2 2 2 1 1 2\n",
      " 2 0 2 0 0 1 2 2 0 2 2 0 2 2 1 1 2 0 2 1 2 2 2 1 0 0 0 2 0 1 0 0 0 1 0 1 1\n",
      " 1 1 0 0 0 2 0 2 2 2 2 0 0 0 0 0 2 0 0 0 2 0 1 0 2 2 1 0 2 2 0 0 1 1 2 0 2\n",
      " 2 0 2 2 0 1 0 0 1 0 2 0 0 0 2 2 1 1 2 0 0 0 0 0 1 2 0 2 0 2 0 0 2 1 0 2 0\n",
      " 2 1 0 1 0 2 2 0 0 2 0 2 2 2 1 0 1 0 1 2 2 2 2 0 2 0 0 1 2 1 2 0 2 0 0 0 2\n",
      " 2 0 0 2 1 0 0 0 1 1 0 2 0 2 2 0 0 2 0]\n"
     ]
    }
   ],
   "source": [
    "ypred_m3 = m3.predict(x_test)\n",
    "print(ypred_m3[:500])"
   ]
  },
  {
   "cell_type": "code",
   "execution_count": 43,
   "id": "697cdd9e",
   "metadata": {},
   "outputs": [
    {
     "name": "stdout",
     "output_type": "stream",
     "text": [
      "[[1175  159  212]\n",
      " [ 125  417  104]\n",
      " [ 239  126 1193]]\n",
      "              precision    recall  f1-score   support\n",
      "\n",
      "           0       0.76      0.76      0.76      1546\n",
      "           1       0.59      0.65      0.62       646\n",
      "           2       0.79      0.77      0.78      1558\n",
      "\n",
      "    accuracy                           0.74      3750\n",
      "   macro avg       0.72      0.72      0.72      3750\n",
      "weighted avg       0.75      0.74      0.74      3750\n",
      "\n"
     ]
    }
   ],
   "source": [
    "from sklearn.metrics import confusion_matrix, classification_report\n",
    "cm = confusion_matrix(y_test, ypred_m3)\n",
    "print(cm)\n",
    "print(classification_report(y_test,ypred_m3))"
   ]
  },
  {
   "cell_type": "markdown",
   "id": "acefd021",
   "metadata": {},
   "source": [
    "Conclusion : The SVM model with linear kernel has the best accuracy for the given dataset."
   ]
  }
 ],
 "metadata": {
  "kernelspec": {
   "display_name": "Python 3 (ipykernel)",
   "language": "python",
   "name": "python3"
  },
  "language_info": {
   "codemirror_mode": {
    "name": "ipython",
    "version": 3
   },
   "file_extension": ".py",
   "mimetype": "text/x-python",
   "name": "python",
   "nbconvert_exporter": "python",
   "pygments_lexer": "ipython3",
   "version": "3.9.12"
  }
 },
 "nbformat": 4,
 "nbformat_minor": 5
}
